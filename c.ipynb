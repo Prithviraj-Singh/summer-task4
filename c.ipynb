{
 "cells": [
  {
   "cell_type": "code",
   "execution_count": 2,
   "metadata": {},
   "outputs": [],
   "source": [
    "import numpy\n",
    "import cv2"
   ]
  },
  {
   "cell_type": "code",
   "execution_count": 3,
   "metadata": {},
   "outputs": [
    {
     "data": {
      "text/plain": [
       "(600, 600, 3)"
      ]
     },
     "execution_count": 3,
     "metadata": {},
     "output_type": "execute_result"
    }
   ],
   "source": [
    "man = cv2.imread(\"depositphotos_3247683-stock-photo-just-a-big-kid-at.jpg\")\n",
    "cv2.imshow(\"hi\",man)\n",
    "cv2.waitKey()\n",
    "cv2.destroyAllWindows()\n",
    "man.shape"
   ]
  },
  {
   "cell_type": "code",
   "execution_count": 4,
   "metadata": {},
   "outputs": [],
   "source": [
    "slide = cv2.imread(\"slide.jpg\")\n",
    "temp = cv2.imread(\"slide.jpg\")\n",
    "cv2.imshow(\"hi\",slide)\n",
    "cv2.waitKey()\n",
    "cv2.destroyAllWindows()"
   ]
  },
  {
   "cell_type": "code",
   "execution_count": 5,
   "metadata": {},
   "outputs": [
    {
     "data": {
      "text/plain": [
       "(300, 300, 3)"
      ]
     },
     "execution_count": 5,
     "metadata": {},
     "output_type": "execute_result"
    }
   ],
   "source": [
    "half = cv2.resize(man, (0, 0), fx = 0.5, fy = 0.5)\n",
    "half.shape"
   ]
  },
  {
   "cell_type": "code",
   "execution_count": 6,
   "metadata": {},
   "outputs": [],
   "source": [
    "cv2.imshow(\"hi\",half)\n",
    "cv2.waitKey()\n",
    "cv2.destroyAllWindows()"
   ]
  },
  {
   "cell_type": "code",
   "execution_count": 7,
   "metadata": {},
   "outputs": [],
   "source": [
    "slide[27:327,558:858] = half"
   ]
  },
  {
   "cell_type": "code",
   "execution_count": 8,
   "metadata": {},
   "outputs": [],
   "source": [
    "cv2.imshow(\"hi\",slide)\n",
    "cv2.waitKey()\n",
    "cv2.destroyAllWindows()"
   ]
  },
  {
   "cell_type": "code",
   "execution_count": 9,
   "metadata": {},
   "outputs": [],
   "source": [
    "for row in range(slide.shape[0]):\n",
    "    for column in range(slide.shape[1]):\n",
    "        a = slide[row][column]\n",
    "        if a[0] in range(240,256) and a[1] in range(240,256) and a[2] in range(240,256):\n",
    "            slide[row][column] = temp[row][column]\n",
    "cv2.imshow(\"hi\",slide)\n",
    "cv2.waitKey()\n",
    "cv2.destroyAllWindows()"
   ]
  },
  {
   "cell_type": "code",
   "execution_count": 46,
   "metadata": {},
   "outputs": [
    {
     "data": {
      "text/plain": [
       "array([[[ 66,  32,   3],\n",
       "        [ 64,  33,   2],\n",
       "        [ 62,  33,   2],\n",
       "        ...,\n",
       "        [106, 193, 173],\n",
       "        [106, 193, 173],\n",
       "        [106, 193, 173]],\n",
       "\n",
       "       [[ 68,  31,   3],\n",
       "        [ 66,  32,   2],\n",
       "        [ 62,  33,   2],\n",
       "        ...,\n",
       "        [106, 193, 173],\n",
       "        [106, 193, 173],\n",
       "        [106, 193, 173]],\n",
       "\n",
       "       [[ 68,  31,   3],\n",
       "        [ 66,  32,   2],\n",
       "        [ 62,  33,   2],\n",
       "        ...,\n",
       "        [106, 193, 173],\n",
       "        [106, 193, 173],\n",
       "        [106, 193, 173]],\n",
       "\n",
       "       ...,\n",
       "\n",
       "       [[104, 151, 189],\n",
       "        [113, 160, 198],\n",
       "        [116, 163, 201],\n",
       "        ...,\n",
       "        [ 60, 122, 100],\n",
       "        [ 65, 124, 104],\n",
       "        [ 71, 126, 107]],\n",
       "\n",
       "       [[112, 159, 197],\n",
       "        [111, 158, 196],\n",
       "        [128, 177, 215],\n",
       "        ...,\n",
       "        [ 51, 113,  91],\n",
       "        [ 63, 122, 102],\n",
       "        [ 69, 124, 105]],\n",
       "\n",
       "       [[113, 160, 198],\n",
       "        [112, 161, 199],\n",
       "        [119, 171, 208],\n",
       "        ...,\n",
       "        [ 45, 106,  86],\n",
       "        [ 56, 114,  96],\n",
       "        [ 65, 119, 102]]], dtype=uint8)"
      ]
     },
     "execution_count": 46,
     "metadata": {},
     "output_type": "execute_result"
    }
   ],
   "source": []
  },
  {
   "cell_type": "code",
   "execution_count": null,
   "metadata": {},
   "outputs": [],
   "source": []
  }
 ],
 "metadata": {
  "kernelspec": {
   "display_name": "Python 3",
   "language": "python",
   "name": "python3"
  },
  "language_info": {
   "codemirror_mode": {
    "name": "ipython",
    "version": 3
   },
   "file_extension": ".py",
   "mimetype": "text/x-python",
   "name": "python",
   "nbconvert_exporter": "python",
   "pygments_lexer": "ipython3",
   "version": "3.8.3"
  }
 },
 "nbformat": 4,
 "nbformat_minor": 4
}
