{
 "cells": [
  {
   "cell_type": "code",
   "execution_count": 1,
   "metadata": {},
   "outputs": [],
   "source": [
    "import cv2"
   ]
  },
  {
   "cell_type": "code",
   "execution_count": 2,
   "metadata": {},
   "outputs": [],
   "source": [
    "import numpy"
   ]
  },
  {
   "cell_type": "code",
   "execution_count": 3,
   "metadata": {},
   "outputs": [],
   "source": [
    "def gradient(image,blue_init,blue_final,green_init,green_final,red_init,red_final,radius_start,radius_end,center):\n",
    "    print(radius_end<radius_start)\n",
    "    b = blue_init\n",
    "    g = green_init\n",
    "    r = red_init\n",
    "    x = radius_start\n",
    "    image[:][:] = [b,g,r]\n",
    "    while (radius_end<radius_start):\n",
    "        cv2.circle(image,center,radius_start,(b,g,r),-1)\n",
    "        b = b - (blue_init-blue_final)/((x-radius_end))\n",
    "        g = g - (green_init-green_final)/((x-radius_end))\n",
    "        r = r - (red_init-red_final)/((x-radius_end))\n",
    "        radius_start = radius_start - 1\n",
    "    return image"
   ]
  },
  {
   "cell_type": "code",
   "execution_count": 4,
   "metadata": {},
   "outputs": [],
   "source": [
    "def gradient2(image,blue_init,blue_final,green_init,green_final,red_init,red_final,radius_start,radius_end,start_angle,end_angle,center):\n",
    "    b = blue_init\n",
    "    g = green_init\n",
    "    r = red_init\n",
    "    x = radius_start\n",
    "    while (radius_end<radius_start):\n",
    "        cv2.ellipse(image,center,(radius_start,radius_start),0,start_angle,end_angle,(b,g,r),-1)\n",
    "        b = b - (blue_init-blue_final)/((x-radius_end))\n",
    "        g = g - (green_init-green_final)/((x-radius_end))\n",
    "        r = r - (red_init-red_final)/((x-radius_end))\n",
    "        radius_start = radius_start - 1\n",
    "    return image"
   ]
  },
  {
   "cell_type": "code",
   "execution_count": 5,
   "metadata": {},
   "outputs": [
    {
     "name": "stdout",
     "output_type": "stream",
     "text": [
      "True\n"
     ]
    }
   ],
   "source": [
    "scene = numpy.zeros((500,750,3))\n",
    "scene[:350][:] = [0.20,0.73,1]\n",
    "start = 500\n",
    "end = 180\n",
    "b1 = 0.2\n",
    "g1 = 0.73\n",
    "r1 = 1\n",
    "b2 = 0\n",
    "g2 = 0.3\n",
    "r2 = 0.9\n",
    "b = b1\n",
    "g = g1\n",
    "r = r1\n",
    "x = start\n",
    "while end<start:\n",
    "    cv2.circle(scene,(355,355),start,(b,g,r),-1)\n",
    "    b = b - (b1-b2)/(x-end)\n",
    "    g = g - (g1-g2)/(x-end)\n",
    "    r = r - (r1-r2)/(x-end)\n",
    "    start = start - 1\n",
    "cv2.circle(scene,(350,350),180,(0,0.3,0.9),-1)\n",
    "cv2.circle(scene,(350,350),150,(0.3,1,1),-1)\n",
    "scene2 =  numpy.zeros((150,750,3))\n",
    "scene2 = gradient(scene2,0,0.2,0.4,1,0.13,0.40,400,1,(350,0))\n",
    "scene[350:] = scene2[:]\n",
    "scene[350:,300:400] = (0,0.15,0.3)\n",
    "for i in range(300,400):\n",
    "    scene = gradient2(scene,0,0,0.4,0.1,0.5,0.3,172,0,60,120,(i,350))\n",
    "scene[280:350,285:300] = [0.00,0.07,0.10]\n",
    "scene[280:350,400:415] = [0.00,0.07,0.10]\n",
    "scene[290:292,:285] = [0,0.07,0.1]\n",
    "scene[335:337,:285] = [0,0.07,0.1]\n",
    "scene[290:292,415:] = [0,0.07,0.1]\n",
    "scene[335:337,415:] = [0,0.07,0.1]\n",
    "cv2.imshow('hi',scene)\n",
    "cv2.waitKey()\n",
    "cv2.destroyAllWindows()"
   ]
  },
  {
   "cell_type": "code",
   "execution_count": 6,
   "metadata": {},
   "outputs": [],
   "source": [
    "def add(image1,image2):\n",
    "    image_new = image2\n",
    "    cv2.imshow('hi',image_new)\n",
    "    cv2.waitKey()\n",
    "    cv2.destroyAllWindows()\n",
    "    for row in range(image1.shape[0]):\n",
    "        for column in range(image1.shape[1]):\n",
    "            for pixel in range(image1.shape[2]):\n",
    "                if image1[row][column][pixel] == 0:\n",
    "                    image_new[row][column][pixel] = 0\n",
    "    return image_new"
   ]
  },
  {
   "cell_type": "code",
   "execution_count": 7,
   "metadata": {},
   "outputs": [],
   "source": [
    "tree = cv2.imread(\"tree.png\")"
   ]
  },
  {
   "cell_type": "code",
   "execution_count": 8,
   "metadata": {},
   "outputs": [],
   "source": [
    "scene2 = add(tree,scene)\n",
    "cv2.imshow('hi',scene2)\n",
    "cv2.waitKey()\n",
    "cv2.destroyAllWindows()"
   ]
  },
  {
   "cell_type": "code",
   "execution_count": null,
   "metadata": {},
   "outputs": [],
   "source": []
  }
 ],
 "metadata": {
  "kernelspec": {
   "display_name": "Python 3",
   "language": "python",
   "name": "python3"
  },
  "language_info": {
   "codemirror_mode": {
    "name": "ipython",
    "version": 3
   },
   "file_extension": ".py",
   "mimetype": "text/x-python",
   "name": "python",
   "nbconvert_exporter": "python",
   "pygments_lexer": "ipython3",
   "version": "3.8.3"
  }
 },
 "nbformat": 4,
 "nbformat_minor": 4
}
